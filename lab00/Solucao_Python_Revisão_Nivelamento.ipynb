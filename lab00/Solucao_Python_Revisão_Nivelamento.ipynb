{
  "nbformat": 4,
  "nbformat_minor": 0,
  "metadata": {
    "colab": {
      "provenance": []
    },
    "kernelspec": {
      "name": "python3",
      "display_name": "Python 3"
    }
  },
  "cells": [
    {
      "cell_type": "markdown",
      "source": [
        "# Identificação:\n",
        "\n",
        "Matrícula: 121210381\n",
        "\n",
        "Nome: Gabriel Yuri Ramalho Ferreira"
      ],
      "metadata": {
        "id": "Vpf-s3t8yR5N"
      }
    },
    {
      "cell_type": "markdown",
      "source": [
        "# Python - Exercícios de Nivelamento"
      ],
      "metadata": {
        "id": "0JFnA1Un-SAy"
      }
    },
    {
      "cell_type": "markdown",
      "source": [
        "Se você quiser aprender um pouco de Python antes de fazer os exercícios, segue uma lista de tutoriais recomendados:\n",
        "\n",
        "[Este notebook que vai desde o básico até o intermediário em python](https://github.com/arnaldog12/Jupyter-Tutoriais/blob/master/Python.ipynb).\n",
        "\n",
        "[Tutorial Básico de Python](https://www.devmedia.com.br/python-tutorial/33274).\n",
        "\n",
        "[Aprenda List Comprehension direto no navegador](https://www.programiz.com/python-programming/list-comprehension).\n",
        "\n",
        "[Mais um tutorial de list comprehensions](https://pythonacademy.com.br/blog/list-comprehensions-no-python)"
      ],
      "metadata": {
        "id": "zBieLgoB9rWK"
      }
    },
    {
      "cell_type": "markdown",
      "metadata": {
        "id": "GMNUE0d5gqnn"
      },
      "source": [
        "# List Comprehensions"
      ]
    },
    {
      "cell_type": "markdown",
      "metadata": {
        "id": "dV0S-dOZgxQv"
      },
      "source": [
        "Nos exercícios abaixo, use list comprehensions pra criar as listas de acordo com o que for pedido:"
      ]
    },
    {
      "cell_type": "markdown",
      "metadata": {
        "id": "b7ofnef0hEpo"
      },
      "source": [
        "### Números pares até 30"
      ]
    },
    {
      "cell_type": "code",
      "metadata": {
        "id": "8KEG5McMflhK",
        "colab": {
          "base_uri": "https://localhost:8080/"
        },
        "outputId": "9bae58a0-ca06-497e-e65b-d0d5aae0c3ae"
      },
      "source": [
        "#insira seu código aqui\n",
        "paresAte30 = [numero for numero in range(31) if( numero % 2 == 0 and numero != 0)]\n",
        "print(paresAte30)"
      ],
      "execution_count": 4,
      "outputs": [
        {
          "output_type": "stream",
          "name": "stdout",
          "text": [
            "[2, 4, 6, 8, 10, 12, 14, 16, 18, 20, 22, 24, 26, 28, 30]\n"
          ]
        }
      ]
    },
    {
      "cell_type": "markdown",
      "metadata": {
        "id": "x6T15otDhVnP"
      },
      "source": [
        "<font color='red'>**Saída esperada:**</font>\n",
        "\n",
        "```py\n",
        "[2, 4, 6, 8, 10, 12, 14, 16, 18, 20, 22, 24, 26, 28, 30]\n",
        "```"
      ]
    },
    {
      "cell_type": "markdown",
      "metadata": {
        "id": "M6efLUcUhrNe"
      },
      "source": [
        "### Quadrado dos números ímpares até 10"
      ]
    },
    {
      "cell_type": "code",
      "metadata": {
        "id": "3Xgr5-FahQES",
        "colab": {
          "base_uri": "https://localhost:8080/"
        },
        "outputId": "6acda49c-cfde-42fd-fa85-7a117656b7c0"
      },
      "source": [
        "#insira seu código aqui\n",
        "imparesAoQuadrado = [numero ** 2 for numero in range(11) if numero % 2 != 0]\n",
        "print(imparesAoQuadrado)"
      ],
      "execution_count": 6,
      "outputs": [
        {
          "output_type": "stream",
          "name": "stdout",
          "text": [
            "[1, 9, 25, 49, 81]\n"
          ]
        }
      ]
    },
    {
      "cell_type": "markdown",
      "metadata": {
        "id": "Okrm-gL2h11Y"
      },
      "source": [
        "<font color='red'>**Saída esperada:**</font>\n",
        "\n",
        "```py\n",
        "[1, 9, 25, 49, 81]\n",
        "```"
      ]
    },
    {
      "cell_type": "markdown",
      "metadata": {
        "id": "6mMcmggUi06I"
      },
      "source": [
        "### Lucro obtido pela venda de um determinado produto por R$ 25.90, considerando diferentes valores de compra. Formatar saída com `'{:.2f}'.format(valor)`\n"
      ]
    },
    {
      "cell_type": "code",
      "metadata": {
        "id": "6DlZTIqthzsE",
        "colab": {
          "base_uri": "https://localhost:8080/"
        },
        "outputId": "8b5b9e4d-99ab-43c2-ca7f-dd8018ba6bd3"
      },
      "source": [
        "list_values = [13.80, 25.20, 17.70, 18.10]\n",
        "\n",
        "list_profit = ['{:.2f}'.format(25.9 -valorCompra) for valorCompra in list_values ]\n",
        "\n",
        "print(list_profit)"
      ],
      "execution_count": 7,
      "outputs": [
        {
          "output_type": "stream",
          "name": "stdout",
          "text": [
            "['12.10', '0.70', '8.20', '7.80']\n"
          ]
        }
      ]
    },
    {
      "cell_type": "markdown",
      "metadata": {
        "id": "lj9VmxAijW1f"
      },
      "source": [
        "<font color='red'>**Saída esperada:**</font>\n",
        "\n",
        "```py\n",
        "['12.10', '0.70', '8.20', '7.80']\n",
        "```"
      ]
    },
    {
      "cell_type": "markdown",
      "metadata": {
        "id": "IgyUMONljeq5"
      },
      "source": [
        "# Dictionary Comprehensions"
      ]
    },
    {
      "cell_type": "markdown",
      "metadata": {
        "id": "dp1Z7NpFj-9W"
      },
      "source": [
        "Em Python, também é possível utilizar a mesma lógica das list comprehensions para criar dicionários. Portanto, crie os dicionários abaixo de acordo com o pedido no exercício."
      ]
    },
    {
      "cell_type": "markdown",
      "metadata": {
        "id": "gMqrWmx2jhuG"
      },
      "source": [
        "### Chaves: números pares até 10; Valores: Cubo das chaves"
      ]
    },
    {
      "cell_type": "code",
      "metadata": {
        "id": "KNqkjoAQjS-u",
        "colab": {
          "base_uri": "https://localhost:8080/"
        },
        "outputId": "7d154376-dd18-4f6c-9c47-a1e185641c38"
      },
      "source": [
        "#insira seu código aqui\n",
        "dictResponse = {x:x ** 3 for x in range(2,11) if x % 2 == 0 }\n",
        "print(dictResponse)"
      ],
      "execution_count": 10,
      "outputs": [
        {
          "output_type": "stream",
          "name": "stdout",
          "text": [
            "{2: 8, 4: 64, 6: 216, 8: 512, 10: 1000}\n"
          ]
        }
      ]
    },
    {
      "cell_type": "markdown",
      "metadata": {
        "id": "1fj-l3qnj3CQ"
      },
      "source": [
        "<font color='red'>**Saída esperada:**</font>\n",
        "\n",
        "```py\n",
        "{2: 8, 4: 64, 6: 216, 8: 512, 10: 1000}\n",
        "```"
      ]
    },
    {
      "cell_type": "markdown",
      "metadata": {
        "id": "_ERTFG8nT4Uq"
      },
      "source": [
        "### Chaves: elementos da lista; Valores: quantidade de vezes que o elemento apareceu na lista"
      ]
    },
    {
      "cell_type": "code",
      "metadata": {
        "id": "EpekTfXkkwBs",
        "colab": {
          "base_uri": "https://localhost:8080/"
        },
        "outputId": "12d72d34-a468-4c1b-eb67-8fd1c850c5c9"
      },
      "source": [
        "test_list = [3, 3, 2, 1, 1, 3, 2, 2, 1, 3, 0]\n",
        "dictResult = {x: test_list.count(x) for x in test_list}\n",
        "print(dictResult)\n",
        "\n",
        "#insira seu código aqui"
      ],
      "execution_count": 12,
      "outputs": [
        {
          "output_type": "stream",
          "name": "stdout",
          "text": [
            "{3: 4, 2: 3, 1: 3, 0: 1}\n"
          ]
        }
      ]
    },
    {
      "cell_type": "markdown",
      "metadata": {
        "id": "iF_QzXwyT1Mu"
      },
      "source": [
        "<font color='red'>**Saída esperada:**</font>\n",
        "\n",
        "```py\n",
        "{0: 1, 1: 3, 2: 3, 3: 4}\n",
        "```"
      ]
    },
    {
      "cell_type": "markdown",
      "metadata": {
        "id": "z9fsUAeEkay8"
      },
      "source": [
        "### Uma tupla ($x$, $y$), onde $x$ representa a i-ésima letra de uma string e $y$ = (i+1)-ésima letra"
      ]
    },
    {
      "cell_type": "code",
      "metadata": {
        "id": "WzhtCwEyj1Ns",
        "colab": {
          "base_uri": "https://localhost:8080/"
        },
        "outputId": "0c3e178c-8009-4b3d-b69e-259f7d6fbc98"
      },
      "source": [
        "string = 'python'\n",
        "wordDict = {string[x]: string[x+1] for x in range(0,len(string) - 1)}\n",
        "result = list(wordDict.items())\n",
        "print(result)\n",
        "\n",
        "#insira seu código aqui"
      ],
      "execution_count": 18,
      "outputs": [
        {
          "output_type": "stream",
          "name": "stdout",
          "text": [
            "[('p', 'y'), ('y', 't'), ('t', 'h'), ('h', 'o'), ('o', 'n')]\n"
          ]
        }
      ]
    },
    {
      "cell_type": "markdown",
      "metadata": {
        "id": "X9ujBr9olv_2"
      },
      "source": [
        "<font color='red'>**Saída esperada:**</font>\n",
        "\n",
        "```py\n",
        "[('p', 'y'), ('y', 't'), ('t', 'h'), ('h', 'o'), ('o', 'n')]\n",
        "```"
      ]
    },
    {
      "cell_type": "markdown",
      "metadata": {
        "id": "da7KJhMKmQn5"
      },
      "source": [
        "# Funções"
      ]
    },
    {
      "cell_type": "markdown",
      "metadata": {
        "id": "e2D4kudonqNh"
      },
      "source": [
        "Crie uma função em python para cada instrução abaixo."
      ]
    },
    {
      "cell_type": "markdown",
      "metadata": {
        "id": "zNA4HjDbmUdC"
      },
      "source": [
        "- **nome**: `by_six(x)`\n",
        "- **entrada**: $x$ (número inteiro)\n",
        "- **retorno**: booleano que indica se um número é divísivel por 6"
      ]
    },
    {
      "cell_type": "code",
      "metadata": {
        "id": "QMmJHcDXmTJu",
        "colab": {
          "base_uri": "https://localhost:8080/"
        },
        "outputId": "fc5e4007-50f3-41d8-b367-0b2035d9cc7a"
      },
      "source": [
        "#insira seu código aqui\n",
        "def by_six(x):\n",
        "  return (x % 2 == 0) and (x % 3 == 0)\n",
        "\n",
        "\n",
        "\n",
        "\n",
        "# não altere o código abaixo\n",
        "test_list = list(range(15))\n",
        "for x in test_list:\n",
        "    print(x, by_six(x))"
      ],
      "execution_count": 19,
      "outputs": [
        {
          "output_type": "stream",
          "name": "stdout",
          "text": [
            "0 True\n",
            "1 False\n",
            "2 False\n",
            "3 False\n",
            "4 False\n",
            "5 False\n",
            "6 True\n",
            "7 False\n",
            "8 False\n",
            "9 False\n",
            "10 False\n",
            "11 False\n",
            "12 True\n",
            "13 False\n",
            "14 False\n"
          ]
        }
      ]
    },
    {
      "cell_type": "markdown",
      "metadata": {
        "id": "-mZ_QbT9pdlB"
      },
      "source": [
        "<font color='red'>**Saída esperada:**</font>\n",
        "\n",
        "```py\n",
        "0 True\n",
        "1 False\n",
        "2 False\n",
        "3 False\n",
        "4 False\n",
        "5 False\n",
        "6 True\n",
        "7 False\n",
        "8 False\n",
        "9 False\n",
        "10 False\n",
        "11 False\n",
        "12 True\n",
        "13 False\n",
        "14 False\n",
        "```"
      ]
    },
    {
      "cell_type": "markdown",
      "metadata": {
        "id": "L5TbGIPnp4Fu"
      },
      "source": [
        "- **nome**: `add_lists(list_1, list_2)`\n",
        "- **entrada**: duas listas de números inteiros e de mesmo tamanho\n",
        "- **retorno**: lista com a soma dos elementos na mesma posição"
      ]
    },
    {
      "cell_type": "code",
      "metadata": {
        "id": "2TxlKG-GqGWG",
        "colab": {
          "base_uri": "https://localhost:8080/"
        },
        "outputId": "3e2b0e4f-69a1-40a2-ae87-741703ad6189"
      },
      "source": [
        "#insira seu código aqui\n",
        "def add_lists(list1, list2):\n",
        "  sumList = []\n",
        "  for i in range(0,len(list1)):\n",
        "    sumList.append(list1[i] + list2[i])\n",
        "\n",
        "  return sumList\n",
        "\n",
        "# não altere o código abaixo\n",
        "list_1 = [1, 2, 3, 4, 5]\n",
        "list_2 = [7, 9, 6, 4, 0]\n",
        "\n",
        "print(add_lists(list_1, list_2))"
      ],
      "execution_count": 20,
      "outputs": [
        {
          "output_type": "stream",
          "name": "stdout",
          "text": [
            "[8, 11, 9, 8, 5]\n"
          ]
        }
      ]
    },
    {
      "cell_type": "markdown",
      "metadata": {
        "id": "2NvClEShqa82"
      },
      "source": [
        "<font color='red'>**Saída esperada:**</font>\n",
        "\n",
        "```py\n",
        "[8, 11, 9, 8, 5]\n",
        "```"
      ]
    },
    {
      "cell_type": "markdown",
      "metadata": {
        "id": "kb23WI9moVYn"
      },
      "source": [
        "- **nome**: `remove_character_from_word(word, char)`\n",
        "- **entrada**: duas strings (`word` e `char`)\n",
        "- **retorno**: string `word` sem os caracteres iguais a `char`"
      ]
    },
    {
      "cell_type": "code",
      "metadata": {
        "id": "2cbhuSg3o8Ra",
        "colab": {
          "base_uri": "https://localhost:8080/",
          "height": 35
        },
        "outputId": "509b245a-be1e-4e0f-9adf-08c257ee44f0"
      },
      "source": [
        "#insira seu código aqui\n",
        "def remove_character_from_word(word, char):\n",
        "  wordResult = ''\n",
        "  for actualChar in word:\n",
        "    if(actualChar != char):\n",
        "      wordResult += actualChar\n",
        "  return wordResult\n",
        "\n",
        "# não altere o código abaixo\n",
        "word = 'abracadabra'\n",
        "remove_character_from_word(word, 'a')"
      ],
      "execution_count": 21,
      "outputs": [
        {
          "output_type": "execute_result",
          "data": {
            "text/plain": [
              "'brcdbr'"
            ],
            "application/vnd.google.colaboratory.intrinsic+json": {
              "type": "string"
            }
          },
          "metadata": {},
          "execution_count": 21
        }
      ]
    },
    {
      "cell_type": "markdown",
      "metadata": {
        "id": "isn0EtO9pXuK"
      },
      "source": [
        "<font color='red'>**Saída esperada:**</font>\n",
        "\n",
        "```py\n",
        "'brcdbr'\n",
        "```"
      ]
    },
    {
      "cell_type": "markdown",
      "metadata": {
        "id": "S0CoCR5WXFCy"
      },
      "source": [
        "- **nome**: `simple_tokenization(sentence)`\n",
        "- **entrada**: uma string representando uma frase\n",
        "- **retorno**: conjunto de palavras da frase (sem repetição)\n",
        "\n",
        "A **tokenização** é o processo de dividir uma sentença em uma lista de palavras. Nesse exercício, nós vamos implementar uma tokenização simples e alterá-la para que o resultado da nossa tokenização não tenha palavras repetidas.\n"
      ]
    },
    {
      "cell_type": "code",
      "metadata": {
        "id": "3NbNU9PxYbhk",
        "colab": {
          "base_uri": "https://localhost:8080/"
        },
        "outputId": "e6d315b2-1722-4f4d-dea4-673d1a70a184"
      },
      "source": [
        "#insira seu código aqui\n",
        "def simple_tokenization(sentence):\n",
        "  return set(sentence.split(\" \"))\n",
        "\n",
        "# não altere o código abaixo\n",
        "test_sentence = 'I love ice cream as much as I love myself'\n",
        "print(simple_tokenization(test_sentence))"
      ],
      "execution_count": 24,
      "outputs": [
        {
          "output_type": "stream",
          "name": "stdout",
          "text": [
            "{'I', 'love', 'cream', 'myself', 'as', 'ice', 'much'}\n"
          ]
        }
      ]
    },
    {
      "cell_type": "markdown",
      "metadata": {
        "id": "GCMXCobIaXjE"
      },
      "source": [
        "<font color='red'>**Saída esperada:**</font>\n",
        "\n",
        "```py\n",
        "{'I', 'as', 'cream', 'ice', 'love', 'much', 'myself'}\n",
        "```"
      ]
    }
  ]
}